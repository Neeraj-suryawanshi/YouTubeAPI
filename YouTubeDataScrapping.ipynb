{
 "cells": [
  {
   "cell_type": "markdown",
   "id": "1a467269",
   "metadata": {},
   "source": [
    "# Process of Scrapping all Video data from a channel"
   ]
  },
  {
   "cell_type": "code",
   "execution_count": null,
   "id": "461c6cb5",
   "metadata": {},
   "outputs": [],
   "source": [
    "\"\"\"\n",
    "1) Create API key from below link and enable it in your project.\n",
    "   https://console.cloud.google.com/\n",
    "1) run below command on anaconda prompt \n",
    "   pip install --upgrade google-api-python-client\n",
    "2) Find the channel Id of youtube channel and paste it into below link to understand code provided by Youtube API to get required data.\n",
    "   https://developers.google.com/youtube/v3/docs/channels/list\n",
    "For example I am getting data of one youtube channel for which Id is=\"UCeVMnSShP_Iviwkknt83cww\"  #Code with harry uploadId=UUeVMnSShP_Iviwkknt83cww\n",
    "3) To Scrap all video data from above channel Find upload ID first.\n",
    "4) From upload Id extract information of all video IDs.\n",
    "5) Use all video IDs to get the data of all videos posted by this particular channel\n",
    "\"\"\""
   ]
  },
  {
   "cell_type": "markdown",
   "id": "934ce853",
   "metadata": {},
   "source": [
    "## Step-1 : Connecting from youtube API."
   ]
  },
  {
   "cell_type": "code",
   "execution_count": 19,
   "id": "1098f83c",
   "metadata": {},
   "outputs": [],
   "source": [
    "import googleapiclient.discovery"
   ]
  },
  {
   "cell_type": "code",
   "execution_count": 20,
   "id": "a74ec137",
   "metadata": {},
   "outputs": [],
   "source": [
    "api_service_name =\"youtube\"\n",
    "api_version =\"v3\"\n",
    "DEVELOPER_KEY =\"APIKey\""
   ]
  },
  {
   "cell_type": "code",
   "execution_count": 21,
   "id": "271d3fd4",
   "metadata": {},
   "outputs": [],
   "source": [
    "youtube = googleapiclient.discovery.build(\n",
    "api_service_name, api_version, developerKey = DEVELOPER_KEY)"
   ]
  },
  {
   "cell_type": "code",
   "execution_count": 22,
   "id": "dc244858",
   "metadata": {},
   "outputs": [
    {
     "name": "stdout",
     "output_type": "stream",
     "text": [
      "{'kind': 'youtube#channelListResponse', 'etag': 'D_iCP0k3XN57ssJd190_DqGGe3M', 'pageInfo': {'totalResults': 1, 'resultsPerPage': 5}, 'items': [{'kind': 'youtube#channel', 'etag': '1veYNq1YE6fLXSOyON7vD-27ODA', 'id': 'UCeVMnSShP_Iviwkknt83cww', 'snippet': {'title': 'CodeWithHarry', 'description': 'Code With Harry is my attempt to teach basics and those coding techniques to people in short time which took me ages to learn.\\nAt Code With Harry, I provide a quick and to the point demo along with resources of anything and everything I teach. Source code and other resources are hosted on my website CodeWithHarry.com. I provide source code(if any) in the description of every video.\\nQuality programming videos in Hindi :)\\nBusiness enquiries: harry@codewithharry.com\\n', 'customUrl': '@codewithharry', 'publishedAt': '2018-04-28T14:50:54Z', 'thumbnails': {'default': {'url': 'https://yt3.ggpht.com/ytc/AIf8zZTNiWLD2-Qw1eWFmRJkGBzfI-8oFNmYk5tBnpNurQ=s88-c-k-c0x00ffffff-no-rj', 'width': 88, 'height': 88}, 'medium': {'url': 'https://yt3.ggpht.com/ytc/AIf8zZTNiWLD2-Qw1eWFmRJkGBzfI-8oFNmYk5tBnpNurQ=s240-c-k-c0x00ffffff-no-rj', 'width': 240, 'height': 240}, 'high': {'url': 'https://yt3.ggpht.com/ytc/AIf8zZTNiWLD2-Qw1eWFmRJkGBzfI-8oFNmYk5tBnpNurQ=s800-c-k-c0x00ffffff-no-rj', 'width': 800, 'height': 800}}, 'localized': {'title': 'CodeWithHarry', 'description': 'Code With Harry is my attempt to teach basics and those coding techniques to people in short time which took me ages to learn.\\nAt Code With Harry, I provide a quick and to the point demo along with resources of anything and everything I teach. Source code and other resources are hosted on my website CodeWithHarry.com. I provide source code(if any) in the description of every video.\\nQuality programming videos in Hindi :)\\nBusiness enquiries: harry@codewithharry.com\\n'}, 'country': 'IN'}, 'contentDetails': {'relatedPlaylists': {'likes': '', 'uploads': 'UUeVMnSShP_Iviwkknt83cww'}}, 'statistics': {'viewCount': '709886170', 'subscriberCount': '5480000', 'hiddenSubscriberCount': False, 'videoCount': '2303'}}]}\n"
     ]
    }
   ],
   "source": [
    "request = youtube.channels().list(\n",
    "        part=\"snippet,statistics,contentDetails\",\n",
    "        id=\"UCeVMnSShP_Iviwkknt83cww\"\n",
    "    )\n",
    "response = request.execute()\n",
    "print(response)"
   ]
  },
  {
   "cell_type": "markdown",
   "id": "688c94cc",
   "metadata": {},
   "source": [
    "## Step-2: Finding the upload if for a particular channel¶"
   ]
  },
  {
   "cell_type": "code",
   "execution_count": 23,
   "id": "74f41c84",
   "metadata": {},
   "outputs": [
    {
     "data": {
      "text/plain": [
       "'UUeVMnSShP_Iviwkknt83cww'"
      ]
     },
     "execution_count": 23,
     "metadata": {},
     "output_type": "execute_result"
    }
   ],
   "source": [
    "response['items'][0]['contentDetails']['relatedPlaylists']['uploads']"
   ]
  },
  {
   "cell_type": "markdown",
   "id": "d0974e2a",
   "metadata": {},
   "source": [
    "## Step-3: Get the Video_id from playlist_id(upload_id) code"
   ]
  },
  {
   "cell_type": "code",
   "execution_count": null,
   "id": "fbe76a77",
   "metadata": {},
   "outputs": [],
   "source": [
    "request = youtube.playlistItems().list(\n",
    "        part=\"contentDetails\",\n",
    "        playlistId='UUFgPJgsmH8u67SvvLK-tLGg',#\"UUeVMnSShP_Iviwkknt83cww\",\n",
    "        maxResults=50\n",
    ")\n",
    "response = request.execute()\n",
    "print(response)"
   ]
  },
  {
   "cell_type": "markdown",
   "id": "2bba7671",
   "metadata": {},
   "source": [
    "## Step-4: With Step3 we can get max of 50 video ids at once so we need to modify code to get if a channel contains more than 50 Videos, we will use nextPageToken Attribute available in Youtube API"
   ]
  },
  {
   "cell_type": "code",
   "execution_count": 26,
   "id": "ec511c5d",
   "metadata": {},
   "outputs": [],
   "source": [
    "def get_videoId(Id):\n",
    "    request = youtube.playlistItems().list(\n",
    "            part=\"snippet,contentDetails\",\n",
    "            playlistId=Id,\n",
    "            maxResults=50\n",
    "    )\n",
    "    response= request.execute()\n",
    "    Video_id=[]\n",
    "    for i in range(len(response['items'])):\n",
    "        Video_id.append(response['items'][i][\"contentDetails\"][\"videoId\"])\n",
    "    next_page=True\n",
    "    while next_page:\n",
    "        if response.get('nextPageToken') is None:\n",
    "            next_page=False\n",
    "        else:\n",
    "            request = youtube.playlistItems().list(\n",
    "            part=\"snippet,contentDetails\",\n",
    "            playlistId=Id,\n",
    "            pageToken=response.get('nextPageToken'),   \n",
    "            maxResults=50)\n",
    "            response= request.execute()\n",
    "            for i in range(len(response['items'])):\n",
    "                Video_id.append(response['items'][i][\"contentDetails\"][\"videoId\"])\n",
    "            pageToken=response.get('nextPageToken')    \n",
    "    return Video_id\n",
    "    "
   ]
  },
  {
   "cell_type": "code",
   "execution_count": 27,
   "id": "9f7593a2",
   "metadata": {},
   "outputs": [],
   "source": [
    "Total_videosID=get_videoId(\"UUeVMnSShP_Iviwkknt83cww\")"
   ]
  },
  {
   "cell_type": "markdown",
   "id": "45e0a08b",
   "metadata": {},
   "source": [
    "## Step-5: With Video_ids we can get the details of each videos.## Step-5: With Video_ids we can get the details of each videos."
   ]
  },
  {
   "cell_type": "code",
   "execution_count": 30,
   "id": "9648c22e",
   "metadata": {},
   "outputs": [],
   "source": [
    "def get_data(VideoIds):\n",
    "    finaldata=[]\n",
    "    for i in range(0,len(VideoIds),50):\n",
    "        request = youtube.videos().list(\n",
    "            part=\"snippet,contentDetails,statistics\",\n",
    "            id=','.join(VideoIds[i:i+50])\n",
    "        )\n",
    "        response = request.execute()\n",
    "        for i in response['items']:\n",
    "            data=dict(Title=i['snippet']['title'],\n",
    "                      Published_date=i['snippet']['publishedAt'],\n",
    "                      Total_views=i['statistics'][\"viewCount\"],\n",
    "                      Total_likes=i['statistics'][\"likeCount\"],\n",
    "                      Totalcomment=i['statistics'][\"commentCount\"])\n",
    "            finaldata.append(data)\n",
    "    return finaldata"
   ]
  },
  {
   "cell_type": "code",
   "execution_count": 32,
   "id": "cffb296d",
   "metadata": {},
   "outputs": [],
   "source": [
    "finalop=get_data(Total_videosID)"
   ]
  },
  {
   "cell_type": "code",
   "execution_count": 33,
   "id": "0cb6aa9a",
   "metadata": {},
   "outputs": [
    {
     "data": {
      "text/html": [
       "<div>\n",
       "<style scoped>\n",
       "    .dataframe tbody tr th:only-of-type {\n",
       "        vertical-align: middle;\n",
       "    }\n",
       "\n",
       "    .dataframe tbody tr th {\n",
       "        vertical-align: top;\n",
       "    }\n",
       "\n",
       "    .dataframe thead th {\n",
       "        text-align: right;\n",
       "    }\n",
       "</style>\n",
       "<table border=\"1\" class=\"dataframe\">\n",
       "  <thead>\n",
       "    <tr style=\"text-align: right;\">\n",
       "      <th></th>\n",
       "      <th>Title</th>\n",
       "      <th>Published_date</th>\n",
       "      <th>Total_views</th>\n",
       "      <th>Total_likes</th>\n",
       "      <th>Totalcomment</th>\n",
       "    </tr>\n",
       "  </thead>\n",
       "  <tbody>\n",
       "    <tr>\n",
       "      <th>0</th>\n",
       "      <td>Which Code Editor to Use?</td>\n",
       "      <td>2024-02-09T16:30:05Z</td>\n",
       "      <td>13729</td>\n",
       "      <td>1602</td>\n",
       "      <td>52</td>\n",
       "    </tr>\n",
       "    <tr>\n",
       "      <th>1</th>\n",
       "      <td>Exercise 18 - Solution &amp; Shoutouts | Sigma Web...</td>\n",
       "      <td>2024-02-08T16:14:04Z</td>\n",
       "      <td>9013</td>\n",
       "      <td>431</td>\n",
       "      <td>124</td>\n",
       "    </tr>\n",
       "    <tr>\n",
       "      <th>2</th>\n",
       "      <td>Handling Events in React | Sigma Web Developme...</td>\n",
       "      <td>2024-02-07T17:05:50Z</td>\n",
       "      <td>10976</td>\n",
       "      <td>646</td>\n",
       "      <td>156</td>\n",
       "    </tr>\n",
       "    <tr>\n",
       "      <th>3</th>\n",
       "      <td>👨‍💻 Should Kids learn Coding?</td>\n",
       "      <td>2024-02-07T07:14:21Z</td>\n",
       "      <td>35824</td>\n",
       "      <td>3272</td>\n",
       "      <td>65</td>\n",
       "    </tr>\n",
       "    <tr>\n",
       "      <th>4</th>\n",
       "      <td>Exercise 18 - Display the Cards | Sigma Web De...</td>\n",
       "      <td>2024-02-06T16:09:04Z</td>\n",
       "      <td>12271</td>\n",
       "      <td>670</td>\n",
       "      <td>165</td>\n",
       "    </tr>\n",
       "    <tr>\n",
       "      <th>...</th>\n",
       "      <td>...</td>\n",
       "      <td>...</td>\n",
       "      <td>...</td>\n",
       "      <td>...</td>\n",
       "      <td>...</td>\n",
       "    </tr>\n",
       "    <tr>\n",
       "      <th>2299</th>\n",
       "      <td>Learn Python In Hindi In One Video - हिंदी में</td>\n",
       "      <td>2018-06-04T13:59:02Z</td>\n",
       "      <td>338777</td>\n",
       "      <td>10566</td>\n",
       "      <td>622</td>\n",
       "    </tr>\n",
       "    <tr>\n",
       "      <th>2300</th>\n",
       "      <td>[Solved] The term 'pip' is not recognized as t...</td>\n",
       "      <td>2018-06-01T07:02:50Z</td>\n",
       "      <td>397623</td>\n",
       "      <td>7715</td>\n",
       "      <td>844</td>\n",
       "    </tr>\n",
       "    <tr>\n",
       "      <th>2301</th>\n",
       "      <td>JavaScript Tutorial</td>\n",
       "      <td>2018-05-13T16:22:37Z</td>\n",
       "      <td>413891</td>\n",
       "      <td>10530</td>\n",
       "      <td>575</td>\n",
       "    </tr>\n",
       "    <tr>\n",
       "      <th>2302</th>\n",
       "      <td>[Hindi] Which Programming Language to Learn Fi...</td>\n",
       "      <td>2018-05-12T09:55:59Z</td>\n",
       "      <td>51417</td>\n",
       "      <td>1708</td>\n",
       "      <td>125</td>\n",
       "    </tr>\n",
       "    <tr>\n",
       "      <th>2303</th>\n",
       "      <td>[Hindi] Top 5 Programming Languages Everyone S...</td>\n",
       "      <td>2018-05-11T17:44:56Z</td>\n",
       "      <td>100009</td>\n",
       "      <td>4537</td>\n",
       "      <td>543</td>\n",
       "    </tr>\n",
       "  </tbody>\n",
       "</table>\n",
       "<p>2304 rows × 5 columns</p>\n",
       "</div>"
      ],
      "text/plain": [
       "                                                  Title        Published_date  \\\n",
       "0                             Which Code Editor to Use?  2024-02-09T16:30:05Z   \n",
       "1     Exercise 18 - Solution & Shoutouts | Sigma Web...  2024-02-08T16:14:04Z   \n",
       "2     Handling Events in React | Sigma Web Developme...  2024-02-07T17:05:50Z   \n",
       "3                         👨‍💻 Should Kids learn Coding?  2024-02-07T07:14:21Z   \n",
       "4     Exercise 18 - Display the Cards | Sigma Web De...  2024-02-06T16:09:04Z   \n",
       "...                                                 ...                   ...   \n",
       "2299     Learn Python In Hindi In One Video - हिंदी में  2018-06-04T13:59:02Z   \n",
       "2300  [Solved] The term 'pip' is not recognized as t...  2018-06-01T07:02:50Z   \n",
       "2301                                JavaScript Tutorial  2018-05-13T16:22:37Z   \n",
       "2302  [Hindi] Which Programming Language to Learn Fi...  2018-05-12T09:55:59Z   \n",
       "2303  [Hindi] Top 5 Programming Languages Everyone S...  2018-05-11T17:44:56Z   \n",
       "\n",
       "     Total_views Total_likes Totalcomment  \n",
       "0          13729        1602           52  \n",
       "1           9013         431          124  \n",
       "2          10976         646          156  \n",
       "3          35824        3272           65  \n",
       "4          12271         670          165  \n",
       "...          ...         ...          ...  \n",
       "2299      338777       10566          622  \n",
       "2300      397623        7715          844  \n",
       "2301      413891       10530          575  \n",
       "2302       51417        1708          125  \n",
       "2303      100009        4537          543  \n",
       "\n",
       "[2304 rows x 5 columns]"
      ]
     },
     "execution_count": 33,
     "metadata": {},
     "output_type": "execute_result"
    }
   ],
   "source": [
    "import pandas as pd\n",
    "Dataframe=pd.DataFrame(finalop)\n",
    "Dataframe"
   ]
  },
  {
   "cell_type": "markdown",
   "id": "f43d20cf",
   "metadata": {},
   "source": [
    "## Changing the Datatype as all extracted data will be object"
   ]
  },
  {
   "cell_type": "code",
   "execution_count": 34,
   "id": "5d17d05a",
   "metadata": {},
   "outputs": [
    {
     "data": {
      "text/html": [
       "<div>\n",
       "<style scoped>\n",
       "    .dataframe tbody tr th:only-of-type {\n",
       "        vertical-align: middle;\n",
       "    }\n",
       "\n",
       "    .dataframe tbody tr th {\n",
       "        vertical-align: top;\n",
       "    }\n",
       "\n",
       "    .dataframe thead th {\n",
       "        text-align: right;\n",
       "    }\n",
       "</style>\n",
       "<table border=\"1\" class=\"dataframe\">\n",
       "  <thead>\n",
       "    <tr style=\"text-align: right;\">\n",
       "      <th></th>\n",
       "      <th>Title</th>\n",
       "      <th>Published_date</th>\n",
       "      <th>Total_views</th>\n",
       "      <th>Total_likes</th>\n",
       "      <th>Totalcomment</th>\n",
       "    </tr>\n",
       "  </thead>\n",
       "  <tbody>\n",
       "    <tr>\n",
       "      <th>0</th>\n",
       "      <td>Which Code Editor to Use?</td>\n",
       "      <td>2024-02-09 16:30:05+00:00</td>\n",
       "      <td>13729</td>\n",
       "      <td>1602</td>\n",
       "      <td>52</td>\n",
       "    </tr>\n",
       "    <tr>\n",
       "      <th>1</th>\n",
       "      <td>Exercise 18 - Solution &amp; Shoutouts | Sigma Web...</td>\n",
       "      <td>2024-02-08 16:14:04+00:00</td>\n",
       "      <td>9013</td>\n",
       "      <td>431</td>\n",
       "      <td>124</td>\n",
       "    </tr>\n",
       "    <tr>\n",
       "      <th>2</th>\n",
       "      <td>Handling Events in React | Sigma Web Developme...</td>\n",
       "      <td>2024-02-07 17:05:50+00:00</td>\n",
       "      <td>10976</td>\n",
       "      <td>646</td>\n",
       "      <td>156</td>\n",
       "    </tr>\n",
       "    <tr>\n",
       "      <th>3</th>\n",
       "      <td>👨‍💻 Should Kids learn Coding?</td>\n",
       "      <td>2024-02-07 07:14:21+00:00</td>\n",
       "      <td>35824</td>\n",
       "      <td>3272</td>\n",
       "      <td>65</td>\n",
       "    </tr>\n",
       "    <tr>\n",
       "      <th>4</th>\n",
       "      <td>Exercise 18 - Display the Cards | Sigma Web De...</td>\n",
       "      <td>2024-02-06 16:09:04+00:00</td>\n",
       "      <td>12271</td>\n",
       "      <td>670</td>\n",
       "      <td>165</td>\n",
       "    </tr>\n",
       "    <tr>\n",
       "      <th>...</th>\n",
       "      <td>...</td>\n",
       "      <td>...</td>\n",
       "      <td>...</td>\n",
       "      <td>...</td>\n",
       "      <td>...</td>\n",
       "    </tr>\n",
       "    <tr>\n",
       "      <th>2299</th>\n",
       "      <td>Learn Python In Hindi In One Video - हिंदी में</td>\n",
       "      <td>2018-06-04 13:59:02+00:00</td>\n",
       "      <td>338777</td>\n",
       "      <td>10566</td>\n",
       "      <td>622</td>\n",
       "    </tr>\n",
       "    <tr>\n",
       "      <th>2300</th>\n",
       "      <td>[Solved] The term 'pip' is not recognized as t...</td>\n",
       "      <td>2018-06-01 07:02:50+00:00</td>\n",
       "      <td>397623</td>\n",
       "      <td>7715</td>\n",
       "      <td>844</td>\n",
       "    </tr>\n",
       "    <tr>\n",
       "      <th>2301</th>\n",
       "      <td>JavaScript Tutorial</td>\n",
       "      <td>2018-05-13 16:22:37+00:00</td>\n",
       "      <td>413891</td>\n",
       "      <td>10530</td>\n",
       "      <td>575</td>\n",
       "    </tr>\n",
       "    <tr>\n",
       "      <th>2302</th>\n",
       "      <td>[Hindi] Which Programming Language to Learn Fi...</td>\n",
       "      <td>2018-05-12 09:55:59+00:00</td>\n",
       "      <td>51417</td>\n",
       "      <td>1708</td>\n",
       "      <td>125</td>\n",
       "    </tr>\n",
       "    <tr>\n",
       "      <th>2303</th>\n",
       "      <td>[Hindi] Top 5 Programming Languages Everyone S...</td>\n",
       "      <td>2018-05-11 17:44:56+00:00</td>\n",
       "      <td>100009</td>\n",
       "      <td>4537</td>\n",
       "      <td>543</td>\n",
       "    </tr>\n",
       "  </tbody>\n",
       "</table>\n",
       "<p>2304 rows × 5 columns</p>\n",
       "</div>"
      ],
      "text/plain": [
       "                                                  Title  \\\n",
       "0                             Which Code Editor to Use?   \n",
       "1     Exercise 18 - Solution & Shoutouts | Sigma Web...   \n",
       "2     Handling Events in React | Sigma Web Developme...   \n",
       "3                         👨‍💻 Should Kids learn Coding?   \n",
       "4     Exercise 18 - Display the Cards | Sigma Web De...   \n",
       "...                                                 ...   \n",
       "2299     Learn Python In Hindi In One Video - हिंदी में   \n",
       "2300  [Solved] The term 'pip' is not recognized as t...   \n",
       "2301                                JavaScript Tutorial   \n",
       "2302  [Hindi] Which Programming Language to Learn Fi...   \n",
       "2303  [Hindi] Top 5 Programming Languages Everyone S...   \n",
       "\n",
       "                Published_date  Total_views  Total_likes  Totalcomment  \n",
       "0    2024-02-09 16:30:05+00:00        13729         1602            52  \n",
       "1    2024-02-08 16:14:04+00:00         9013          431           124  \n",
       "2    2024-02-07 17:05:50+00:00        10976          646           156  \n",
       "3    2024-02-07 07:14:21+00:00        35824         3272            65  \n",
       "4    2024-02-06 16:09:04+00:00        12271          670           165  \n",
       "...                        ...          ...          ...           ...  \n",
       "2299 2018-06-04 13:59:02+00:00       338777        10566           622  \n",
       "2300 2018-06-01 07:02:50+00:00       397623         7715           844  \n",
       "2301 2018-05-13 16:22:37+00:00       413891        10530           575  \n",
       "2302 2018-05-12 09:55:59+00:00        51417         1708           125  \n",
       "2303 2018-05-11 17:44:56+00:00       100009         4537           543  \n",
       "\n",
       "[2304 rows x 5 columns]"
      ]
     },
     "execution_count": 34,
     "metadata": {},
     "output_type": "execute_result"
    }
   ],
   "source": [
    "Dataframe['Published_date']=pd.to_datetime(Dataframe['Published_date'])\n",
    "Dataframe['Total_views']=pd.to_numeric(Dataframe['Total_views'])\n",
    "Dataframe['Total_likes']=pd.to_numeric(Dataframe['Total_likes'])\n",
    "Dataframe['Totalcomment']=pd.to_numeric(Dataframe['Totalcomment'])\n",
    "Dataframe"
   ]
  },
  {
   "cell_type": "code",
   "execution_count": null,
   "id": "d64de9ce",
   "metadata": {},
   "outputs": [],
   "source": []
  }
 ],
 "metadata": {
  "kernelspec": {
   "display_name": "Python 3 (ipykernel)",
   "language": "python",
   "name": "python3"
  },
  "language_info": {
   "codemirror_mode": {
    "name": "ipython",
    "version": 3
   },
   "file_extension": ".py",
   "mimetype": "text/x-python",
   "name": "python",
   "nbconvert_exporter": "python",
   "pygments_lexer": "ipython3",
   "version": "3.9.13"
  }
 },
 "nbformat": 4,
 "nbformat_minor": 5
}
