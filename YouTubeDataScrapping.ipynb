{
 "cells": [
  {
   "cell_type": "markdown",
   "id": "504637cb",
   "metadata": {},
   "source": [
    "# Process of Scrapping all Video data from a channel"
   ]
  },
  {
   "cell_type": "code",
   "execution_count": null,
   "id": "2fbca525",
   "metadata": {},
   "outputs": [],
   "source": [
    "\"\"\"\n",
    "1) Create API key from below link and enable it in your project.\n",
    "   https://console.cloud.google.com/\n",
    "1) run below command on anaconda prompt \n",
    "   pip install --upgrade google-api-python-client\n",
    "2) Find the channel Id of youtube channel and paste it into below link to understand code provided by Youtube API to get required data.\n",
    "   https://developers.google.com/youtube/v3/docs/channels/list\n",
    "For example I am getting data of one youtube channel for which Id is=\"UCeVMnSShP_Iviwkknt83cww\"  #Code with harry uploadId=UUeVMnSShP_Iviwkknt83cww\n",
    "3) To Scrap all video data from above channel Find upload ID first.\n",
    "4) From upload Id extract information of all video IDs.\n",
    "5) Use all video IDs to get the data of all videos posted by this particular channel\n",
    "\"\"\""
   ]
  },
  {
   "cell_type": "markdown",
   "id": "b295d16c",
   "metadata": {},
   "source": [
    "## Step-1 : Connecting from youtube API."
   ]
  },
  {
   "cell_type": "code",
   "execution_count": 40,
   "id": "7678c46c",
   "metadata": {},
   "outputs": [],
   "source": [
    "import googleapiclient.discovery"
   ]
  },
  {
   "cell_type": "code",
   "execution_count": 44,
   "id": "e3547ac7",
   "metadata": {},
   "outputs": [],
   "source": [
    "api_service_name =\"youtube\"\n",
    "api_version =\"v3\"\n",
    "DEVELOPER_KEY =\"AIzaSyBs8blvSG_7DdS4IGb65EX3oq63CAlvXXXX\" #use you own generated API KEY"
   ]
  },
  {
   "cell_type": "code",
   "execution_count": 45,
   "id": "a7f6774f",
   "metadata": {},
   "outputs": [],
   "source": [
    "youtube = googleapiclient.discovery.build(\n",
    "api_service_name, api_version, developerKey = DEVELOPER_KEY)"
   ]
  },
  {
   "cell_type": "code",
   "execution_count": 46,
   "id": "d85fb6ef",
   "metadata": {},
   "outputs": [
    {
     "name": "stdout",
     "output_type": "stream",
     "text": [
      "{'kind': 'youtube#channelListResponse', 'etag': 'D_iCP0k3XN57ssJd190_DqGGe3M', 'pageInfo': {'totalResults': 1, 'resultsPerPage': 5}, 'items': [{'kind': 'youtube#channel', 'etag': '1veYNq1YE6fLXSOyON7vD-27ODA', 'id': 'UCeVMnSShP_Iviwkknt83cww', 'snippet': {'title': 'CodeWithHarry', 'description': 'Code With Harry is my attempt to teach basics and those coding techniques to people in short time which took me ages to learn.\\nAt Code With Harry, I provide a quick and to the point demo along with resources of anything and everything I teach. Source code and other resources are hosted on my website CodeWithHarry.com. I provide source code(if any) in the description of every video.\\nQuality programming videos in Hindi :)\\nBusiness enquiries: harry@codewithharry.com\\n', 'customUrl': '@codewithharry', 'publishedAt': '2018-04-28T14:50:54Z', 'thumbnails': {'default': {'url': 'https://yt3.ggpht.com/ytc/AIf8zZTNiWLD2-Qw1eWFmRJkGBzfI-8oFNmYk5tBnpNurQ=s88-c-k-c0x00ffffff-no-rj', 'width': 88, 'height': 88}, 'medium': {'url': 'https://yt3.ggpht.com/ytc/AIf8zZTNiWLD2-Qw1eWFmRJkGBzfI-8oFNmYk5tBnpNurQ=s240-c-k-c0x00ffffff-no-rj', 'width': 240, 'height': 240}, 'high': {'url': 'https://yt3.ggpht.com/ytc/AIf8zZTNiWLD2-Qw1eWFmRJkGBzfI-8oFNmYk5tBnpNurQ=s800-c-k-c0x00ffffff-no-rj', 'width': 800, 'height': 800}}, 'localized': {'title': 'CodeWithHarry', 'description': 'Code With Harry is my attempt to teach basics and those coding techniques to people in short time which took me ages to learn.\\nAt Code With Harry, I provide a quick and to the point demo along with resources of anything and everything I teach. Source code and other resources are hosted on my website CodeWithHarry.com. I provide source code(if any) in the description of every video.\\nQuality programming videos in Hindi :)\\nBusiness enquiries: harry@codewithharry.com\\n'}, 'country': 'IN'}, 'contentDetails': {'relatedPlaylists': {'likes': '', 'uploads': 'UUeVMnSShP_Iviwkknt83cww'}}, 'statistics': {'viewCount': '709886170', 'subscriberCount': '5480000', 'hiddenSubscriberCount': False, 'videoCount': '2303'}}]}\n"
     ]
    }
   ],
   "source": [
    "request = youtube.channels().list(\n",
    "        part=\"snippet,statistics,contentDetails\",\n",
    "        id=\"UCeVMnSShP_Iviwkknt83cww\"\n",
    "    )\n",
    "response = request.execute()\n",
    "print(response)"
   ]
  },
  {
   "cell_type": "markdown",
   "id": "3d4b799f",
   "metadata": {},
   "source": [
    "## Step-2: Finding the upload if for a particular channel¶"
   ]
  },
  {
   "cell_type": "code",
   "execution_count": 47,
   "id": "a499907b",
   "metadata": {},
   "outputs": [
    {
     "data": {
      "text/plain": [
       "'UUeVMnSShP_Iviwkknt83cww'"
      ]
     },
     "execution_count": 47,
     "metadata": {},
     "output_type": "execute_result"
    }
   ],
   "source": [
    "response['items'][0]['contentDetails']['relatedPlaylists']['uploads']"
   ]
  },
  {
   "cell_type": "markdown",
   "id": "c9d32f62",
   "metadata": {},
   "source": [
    "## Step-3: Get the Video_id from playlist_id(upload_id) code"
   ]
  },
  {
   "cell_type": "code",
   "execution_count": 48,
   "id": "fb46f222",
   "metadata": {
    "scrolled": true
   },
   "outputs": [
    {
     "name": "stdout",
     "output_type": "stream",
     "text": [
      "{'kind': 'youtube#playlistItemListResponse', 'etag': 'f1zOc7ENHlR-BeUnd-vzI22yb70', 'nextPageToken': 'EAAafVBUOkNESWlFRFUwTmpOR09URkVOVFUwUlRjeU1qRW9BVWlLaWVDazE1NkVBMUFCV2pnaVEyaG9WbFpYVmxkVVZ6VlVWVEpvVVZnd2JESmhXR1J5WVRJMU1FOUVUbXBrTTJOVFJFRnFUbkJ3YlhWQ2FFTlJPSEJRUjBGUkln', 'items': [{'kind': 'youtube#playlistItem', 'etag': 'jP1w75hSDOh-kabX96tMa7U7C8k', 'id': 'VVVlVk1uU1NoUF9Jdml3a2tudDgzY3d3Lk9jU3BmZ0wzTnVv', 'contentDetails': {'videoId': 'OcSpfgL3Nuo', 'videoPublishedAt': '2024-02-09T16:30:05Z'}}, {'kind': 'youtube#playlistItem', 'etag': 'cymvOMRmqKazm12PxSGMmVupnEQ', 'id': 'VVVlVk1uU1NoUF9Jdml3a2tudDgzY3d3LmlaZE9ycUp1UHJn', 'contentDetails': {'videoId': 'iZdOrqJuPrg', 'videoPublishedAt': '2024-02-08T16:14:04Z'}}, {'kind': 'youtube#playlistItem', 'etag': 'R_bi4ck-FpY0GkiJdo3g0xvX6J8', 'id': 'VVVlVk1uU1NoUF9Jdml3a2tudDgzY3d3LmNYa3dGakJyV2Zr', 'contentDetails': {'videoId': 'cXkwFjBrWfk', 'videoPublishedAt': '2024-02-07T17:05:50Z'}}, {'kind': 'youtube#playlistItem', 'etag': '0QURX1AxqA-i-0jAyQlaW4aGtuY', 'id': 'VVVlVk1uU1NoUF9Jdml3a2tudDgzY3d3LlMtWXIzZFpHY2hF', 'contentDetails': {'videoId': 'S-Yr3dZGchE', 'videoPublishedAt': '2024-02-07T07:14:21Z'}}, {'kind': 'youtube#playlistItem', 'etag': '2p3fD36PWkXnuGtBKdYrBRzsAJs', 'id': 'VVVlVk1uU1NoUF9Jdml3a2tudDgzY3d3LktEcG04aDhYekM0', 'contentDetails': {'videoId': 'KDpm8h8XzC4', 'videoPublishedAt': '2024-02-06T16:09:04Z'}}, {'kind': 'youtube#playlistItem', 'etag': '6xW8U1G1wySVHNmiFkJ7HTRw60U', 'id': 'VVVlVk1uU1NoUF9Jdml3a2tudDgzY3d3Ljk2REdqcWxBSXhz', 'contentDetails': {'videoId': '96DGjqlAIxs', 'videoPublishedAt': '2024-02-05T15:43:53Z'}}, {'kind': 'youtube#playlistItem', 'etag': 'g9bnAvKNkwz6ZNcZrKDZGUT8TYU', 'id': 'VVVlVk1uU1NoUF9Jdml3a2tudDgzY3d3Lk55M2RDa1VuVk4w', 'contentDetails': {'videoId': 'Ny3dCkUnVN0', 'videoPublishedAt': '2024-02-04T15:30:04Z'}}, {'kind': 'youtube#playlistItem', 'etag': 'Sg4gh9u4a_ZoqU-S-20sIXZ8KEI', 'id': 'VVVlVk1uU1NoUF9Jdml3a2tudDgzY3d3LjA1UGF4S0ZPV3lJ', 'contentDetails': {'videoId': '05PaxKFOWyI', 'videoPublishedAt': '2024-02-04T05:52:24Z'}}, {'kind': 'youtube#playlistItem', 'etag': 'n7YDxMuQsg4KGt-h-ZS99T3Ve8s', 'id': 'VVVlVk1uU1NoUF9Jdml3a2tudDgzY3d3LjJLb2trcEFRdjc0', 'contentDetails': {'videoId': '2KokkpAQv74', 'videoPublishedAt': '2024-02-02T17:07:56Z'}}, {'kind': 'youtube#playlistItem', 'etag': '7ZN5eaCMRztrGEwQ_hOOQmnKMZM', 'id': 'VVVlVk1uU1NoUF9Jdml3a2tudDgzY3d3LlZsU05pTF94NG1v', 'contentDetails': {'videoId': 'VlSNiL_x4mo', 'videoPublishedAt': '2024-02-01T15:56:27Z'}}, {'kind': 'youtube#playlistItem', 'etag': 'aXXpNA3n4PqLXFUDJf2p2Y9PkPI', 'id': 'VVVlVk1uU1NoUF9Jdml3a2tudDgzY3d3LmJpbzJlUDVZWHl3', 'contentDetails': {'videoId': 'bio2eP5YXyw', 'videoPublishedAt': '2024-01-31T16:04:08Z'}}, {'kind': 'youtube#playlistItem', 'etag': 'oO2bCvR1GVFpxvEJIHDC7qlPT7c', 'id': 'VVVlVk1uU1NoUF9Jdml3a2tudDgzY3d3LnpIb1dnSkQwanc0', 'contentDetails': {'videoId': 'zHoWgJD0jw4', 'videoPublishedAt': '2024-01-30T15:54:47Z'}}, {'kind': 'youtube#playlistItem', 'etag': '6Rx87T8rBteewUGo1pXW0lCeeNc', 'id': 'VVVlVk1uU1NoUF9Jdml3a2tudDgzY3d3LjhYOFdaUkpDa2FR', 'contentDetails': {'videoId': '8X8WZRJCkaQ', 'videoPublishedAt': '2024-01-30T09:45:23Z'}}, {'kind': 'youtube#playlistItem', 'etag': 's7m-_b5G0LEyX6KHg8nIHuZzirs', 'id': 'VVVlVk1uU1NoUF9Jdml3a2tudDgzY3d3LlM0Vkg4aGRkZzhj', 'contentDetails': {'videoId': 'S4VH8hddg8c', 'videoPublishedAt': '2024-01-29T16:13:43Z'}}, {'kind': 'youtube#playlistItem', 'etag': 'rLPt8JZy7WisopvKg7YSgM5z0Ro', 'id': 'VVVlVk1uU1NoUF9Jdml3a2tudDgzY3d3Lm5oU1o0TGhJaWk4', 'contentDetails': {'videoId': 'nhSZ4LhIii8', 'videoPublishedAt': '2024-01-28T17:51:22Z'}}, {'kind': 'youtube#playlistItem', 'etag': 'nbKciyPMSG_rOIdi12ejXyJr6WQ', 'id': 'VVVlVk1uU1NoUF9Jdml3a2tudDgzY3d3Lm1MblhjWVJjYkJV', 'contentDetails': {'videoId': 'mLnXcYRcbBU', 'videoPublishedAt': '2024-01-27T14:57:38Z'}}, {'kind': 'youtube#playlistItem', 'etag': 'zM7y3lj0JFyRg47Xr3mOWQkUo7E', 'id': 'VVVlVk1uU1NoUF9Jdml3a2tudDgzY3d3LmJUNzBRcWduLXFZ', 'contentDetails': {'videoId': 'bT70Qqgn-qY', 'videoPublishedAt': '2024-01-26T14:43:19Z'}}, {'kind': 'youtube#playlistItem', 'etag': 'h9C1HjngSxADa6tIgYAlbQIgRfc', 'id': 'VVVlVk1uU1NoUF9Jdml3a2tudDgzY3d3LkFnamREWG9mSlo4', 'contentDetails': {'videoId': 'AgjdDXofJZ8', 'videoPublishedAt': '2024-01-25T16:01:04Z'}}, {'kind': 'youtube#playlistItem', 'etag': 'tQpTo0iYUx6u_j8HjvritTQ3EQA', 'id': 'VVVlVk1uU1NoUF9Jdml3a2tudDgzY3d3LmMyQTVYSmlkSURB', 'contentDetails': {'videoId': 'c2A5XJidIDA', 'videoPublishedAt': '2024-01-24T16:37:48Z'}}, {'kind': 'youtube#playlistItem', 'etag': 'p-GtJICj3kYbWwrvYt2QrZltf3U', 'id': 'VVVlVk1uU1NoUF9Jdml3a2tudDgzY3d3LmpVRm9hWWxnMzVN', 'contentDetails': {'videoId': 'jUFoaYlg35M', 'videoPublishedAt': '2024-01-24T11:30:24Z'}}, {'kind': 'youtube#playlistItem', 'etag': 'qMP9YzAJiFU15SVfAYiUHcDUucI', 'id': 'VVVlVk1uU1NoUF9Jdml3a2tudDgzY3d3LktBSUdyR0VEbTc4', 'contentDetails': {'videoId': 'KAIGrGEDm78', 'videoPublishedAt': '2024-01-23T15:56:43Z'}}, {'kind': 'youtube#playlistItem', 'etag': 'BPdJalT6MFtgJZRas9ha8x9VxnI', 'id': 'VVVlVk1uU1NoUF9Jdml3a2tudDgzY3d3LmxHNjMyakhIbkZn', 'contentDetails': {'videoId': 'lG632jHHnFg', 'videoPublishedAt': '2024-01-21T14:30:16Z'}}, {'kind': 'youtube#playlistItem', 'etag': '6g43nrs4adU5lSt4mhvrCH3zks8', 'id': 'VVVlVk1uU1NoUF9Jdml3a2tudDgzY3d3Lk54ZGRxbXN6ZGRB', 'contentDetails': {'videoId': 'NxddqmszddA', 'videoPublishedAt': '2024-01-21T08:54:00Z'}}, {'kind': 'youtube#playlistItem', 'etag': 'AGux8t-XBua3j9GTKc7fUBTDxcE', 'id': 'VVVlVk1uU1NoUF9Jdml3a2tudDgzY3d3Lm5CSWpXTEI4ZzFj', 'contentDetails': {'videoId': 'nBIjWLB8g1c', 'videoPublishedAt': '2024-01-21T05:30:10Z'}}, {'kind': 'youtube#playlistItem', 'etag': 'hhbUv6QzjT0TKJRDKgzrevKG27Q', 'id': 'VVVlVk1uU1NoUF9Jdml3a2tudDgzY3d3LmllZ01xRm5Wb2NB', 'contentDetails': {'videoId': 'iegMqFnVocA', 'videoPublishedAt': '2024-01-20T05:30:13Z'}}, {'kind': 'youtube#playlistItem', 'etag': 'fqiU-ukhyO8HtOz4xXpnI7IVQjs', 'id': 'VVVlVk1uU1NoUF9Jdml3a2tudDgzY3d3LmVHYzM1UWoweTRR', 'contentDetails': {'videoId': 'eGc35Qj0y4Q', 'videoPublishedAt': '2024-01-18T11:30:21Z'}}, {'kind': 'youtube#playlistItem', 'etag': 'p6IPGQIGPID8eSpABwSo-TGTAag', 'id': 'VVVlVk1uU1NoUF9Jdml3a2tudDgzY3d3LlVwNzNTcTROWW1R', 'contentDetails': {'videoId': 'Up73Sq4NYmQ', 'videoPublishedAt': '2024-01-18T05:30:05Z'}}, {'kind': 'youtube#playlistItem', 'etag': 'mF1LqaHBcaH9J7p-3uWHpNC7oHY', 'id': 'VVVlVk1uU1NoUF9Jdml3a2tudDgzY3d3Lm1OV1JOOGRXUndv', 'contentDetails': {'videoId': 'mNWRN8dWRwo', 'videoPublishedAt': '2024-01-17T14:30:16Z'}}, {'kind': 'youtube#playlistItem', 'etag': 'k2_8m8ZteSihqEzFWNRFF_Q_e2M', 'id': 'VVVlVk1uU1NoUF9Jdml3a2tudDgzY3d3LjE1ak4tS0tvU0NB', 'contentDetails': {'videoId': '15jN-KKoSCA', 'videoPublishedAt': '2024-01-17T08:33:22Z'}}, {'kind': 'youtube#playlistItem', 'etag': 'M61vL294lslH9SWli2MTtyrELqE', 'id': 'VVVlVk1uU1NoUF9Jdml3a2tudDgzY3d3Li1nOTY5ZnVyR2lr', 'contentDetails': {'videoId': '-g969furGik', 'videoPublishedAt': '2024-01-16T17:25:00Z'}}, {'kind': 'youtube#playlistItem', 'etag': '2bJaWeloFU-e-wQnYD9YyjThj8Y', 'id': 'VVVlVk1uU1NoUF9Jdml3a2tudDgzY3d3LnlEbnhnSVJjbnNv', 'contentDetails': {'videoId': 'yDnxgIRcnso', 'videoPublishedAt': '2024-01-15T11:30:26Z'}}, {'kind': 'youtube#playlistItem', 'etag': 'KPT8knAxvDLj80kWk3LQsd8opbQ', 'id': 'VVVlVk1uU1NoUF9Jdml3a2tudDgzY3d3Lk9Fa3BrYkd1bVpF', 'contentDetails': {'videoId': 'OEkpkbGumZE', 'videoPublishedAt': '2024-01-14T13:19:34Z'}}, {'kind': 'youtube#playlistItem', 'etag': '_8BJ9FThvl3Mli_RhMqq2WMMk7Q', 'id': 'VVVlVk1uU1NoUF9Jdml3a2tudDgzY3d3Lndnd281aGJZN1NZ', 'contentDetails': {'videoId': 'wgwo5hbY7SY', 'videoPublishedAt': '2024-01-14T11:15:57Z'}}, {'kind': 'youtube#playlistItem', 'etag': 'oU1RARE2rdyHWrK05mxivorahuM', 'id': 'VVVlVk1uU1NoUF9Jdml3a2tudDgzY3d3LjlPbTBGTUJ6MXlV', 'contentDetails': {'videoId': '9Om0FMBz1yU', 'videoPublishedAt': '2024-01-13T15:07:42Z'}}, {'kind': 'youtube#playlistItem', 'etag': 'v0-erxyQ858jCEE9zYXwwupm3OI', 'id': 'VVVlVk1uU1NoUF9Jdml3a2tudDgzY3d3Lm9NcktWRWVkcEhn', 'contentDetails': {'videoId': 'oMrKVEedpHg', 'videoPublishedAt': '2024-01-12T16:25:54Z'}}, {'kind': 'youtube#playlistItem', 'etag': 'gGAorIN0Ct3RucaYwhc0S98HU1U', 'id': 'VVVlVk1uU1NoUF9Jdml3a2tudDgzY3d3LmJNN2JtaDk1NUdz', 'contentDetails': {'videoId': 'bM7bmh955Gs', 'videoPublishedAt': '2024-01-11T14:45:01Z'}}, {'kind': 'youtube#playlistItem', 'etag': 'YG1UmPaqSSj3Qk4lcCuG1zYT_TQ', 'id': 'VVVlVk1uU1NoUF9Jdml3a2tudDgzY3d3LkthaDg4TjhXNXJz', 'contentDetails': {'videoId': 'Kah88N8W5rs', 'videoPublishedAt': '2024-01-10T11:30:10Z'}}, {'kind': 'youtube#playlistItem', 'etag': 't9826Ya9Qec0JR1FkBw1f5gLvcw', 'id': 'VVVlVk1uU1NoUF9Jdml3a2tudDgzY3d3LjFZU1ZFVzNpOE9R', 'contentDetails': {'videoId': '1YSVEW3i8OQ', 'videoPublishedAt': '2024-01-09T13:55:44Z'}}, {'kind': 'youtube#playlistItem', 'etag': 'hXts6Ea8wtONh0o0wU4FvxyP8SA', 'id': 'VVVlVk1uU1NoUF9Jdml3a2tudDgzY3d3LkY1Vk85c1d5b0FF', 'contentDetails': {'videoId': 'F5VO9sWyoAE', 'videoPublishedAt': '2024-01-07T11:30:05Z'}}, {'kind': 'youtube#playlistItem', 'etag': 'EM9czYL_0Z6_gW9kyRuoZmon2KE', 'id': 'VVVlVk1uU1NoUF9Jdml3a2tudDgzY3d3LlZFTE5QSzBkSzg0', 'contentDetails': {'videoId': 'VELNPK0dK84', 'videoPublishedAt': '2024-01-06T10:42:33Z'}}, {'kind': 'youtube#playlistItem', 'etag': 'BqJG1t6HkoBCDzl8H3j3atYcTA4', 'id': 'VVVlVk1uU1NoUF9Jdml3a2tudDgzY3d3LlNrc3ZsWk0tNVNr', 'contentDetails': {'videoId': 'SksvlZM-5Sk', 'videoPublishedAt': '2024-01-05T14:57:21Z'}}, {'kind': 'youtube#playlistItem', 'etag': 'TZWMxkIufhkVXeabBpkCSrSWiAM', 'id': 'VVVlVk1uU1NoUF9Jdml3a2tudDgzY3d3LlIxMXR2R00zbkRZ', 'contentDetails': {'videoId': 'R11tvGM3nDY', 'videoPublishedAt': '2024-01-05T04:30:07Z'}}, {'kind': 'youtube#playlistItem', 'etag': 'GGwfEmXMfUF7Lsk7giBscAFVhMY', 'id': 'VVVlVk1uU1NoUF9Jdml3a2tudDgzY3d3LkM4cUVpZklsSF9r', 'contentDetails': {'videoId': 'C8qEifIlH_k', 'videoPublishedAt': '2024-01-03T12:56:18Z'}}, {'kind': 'youtube#playlistItem', 'etag': 'rXG-0W2bVoYiJ_O3AZvHmZIttQ0', 'id': 'VVVlVk1uU1NoUF9Jdml3a2tudDgzY3d3LkJUY212ckNUeU5n', 'contentDetails': {'videoId': 'BTcmvrCTyNg', 'videoPublishedAt': '2024-01-03T04:30:03Z'}}, {'kind': 'youtube#playlistItem', 'etag': 'RM0BcpwV_MVOnfp4Jzla46ADOr0', 'id': 'VVVlVk1uU1NoUF9Jdml3a2tudDgzY3d3LmJVNjlkb0FMSkdV', 'contentDetails': {'videoId': 'bU69doALJGU', 'videoPublishedAt': '2024-01-02T10:56:57Z'}}, {'kind': 'youtube#playlistItem', 'etag': 'xz9YQmFi6tXC_TNMGte51IQOEz0', 'id': 'VVVlVk1uU1NoUF9Jdml3a2tudDgzY3d3LkNrQjVtbGhQR19J', 'contentDetails': {'videoId': 'CkB5mlhPG_I', 'videoPublishedAt': '2024-01-02T02:30:04Z'}}, {'kind': 'youtube#playlistItem', 'etag': 'Ohr0sKm-dxHmE70DeBrNyOAzUiY', 'id': 'VVVlVk1uU1NoUF9Jdml3a2tudDgzY3d3LkFReHFlemdrU0hv', 'contentDetails': {'videoId': 'AQxqezgkSHo', 'videoPublishedAt': '2023-12-31T16:42:28Z'}}, {'kind': 'youtube#playlistItem', 'etag': 'UTzNpm2c2YR1UU22qv-oP7__PcE', 'id': 'VVVlVk1uU1NoUF9Jdml3a2tudDgzY3d3Lk5vV1JCbzNVZjhF', 'contentDetails': {'videoId': 'NoWRBo3Uf8E', 'videoPublishedAt': '2023-12-28T16:27:04Z'}}, {'kind': 'youtube#playlistItem', 'etag': 'F7H9EHJrhN4Y0DxYa2xBbQZYa3c', 'id': 'VVVlVk1uU1NoUF9Jdml3a2tudDgzY3d3LkNZd0VxMUdkVTRF', 'contentDetails': {'videoId': 'CYwEq1GdU4E', 'videoPublishedAt': '2023-12-26T15:40:04Z'}}, {'kind': 'youtube#playlistItem', 'etag': 'beuJKk0O52pVDwe6aFBwyIdhTco', 'id': 'VVVlVk1uU1NoUF9Jdml3a2tudDgzY3d3LlZ3eHM5WUpXc3g0', 'contentDetails': {'videoId': 'Vwxs9YJWsx4', 'videoPublishedAt': '2023-12-24T14:30:14Z'}}], 'pageInfo': {'totalResults': 2304, 'resultsPerPage': 50}}\n"
     ]
    }
   ],
   "source": [
    "request = youtube.playlistItems().list(\n",
    "        part=\"contentDetails\",\n",
    "        playlistId=\"UUeVMnSShP_Iviwkknt83cww\",\n",
    "        maxResults=50\n",
    ")\n",
    "response = request.execute()\n",
    "print(response)"
   ]
  },
  {
   "cell_type": "markdown",
   "id": "4ccf5495",
   "metadata": {},
   "source": [
    "## Step-4: With Step3 we can get max of 50 video ids at once so we need to modify code to get if a channel contains more than 50 Videos, we will use nextPageToken Attribute available in Youtube API"
   ]
  },
  {
   "cell_type": "code",
   "execution_count": 49,
   "id": "aa3f63bf",
   "metadata": {},
   "outputs": [],
   "source": [
    "def get_videoId(Id):\n",
    "    request = youtube.playlistItems().list(\n",
    "            part=\"snippet,contentDetails\",\n",
    "            playlistId=Id,\n",
    "            maxResults=50\n",
    "    )\n",
    "    response= request.execute()\n",
    "    Video_id=[]\n",
    "    for i in range(len(response['items'])):\n",
    "        Video_id.append(response['items'][i][\"contentDetails\"][\"videoId\"])\n",
    "    next_page=True\n",
    "    while next_page:\n",
    "        if response.get('nextPageToken') is None:\n",
    "            next_page=False\n",
    "        else:\n",
    "            request = youtube.playlistItems().list(\n",
    "            part=\"snippet,contentDetails\",\n",
    "            playlistId=Id,\n",
    "            pageToken=response.get('nextPageToken'),   \n",
    "            maxResults=50)\n",
    "            response= request.execute()\n",
    "            for i in range(len(response['items'])):\n",
    "                Video_id.append(response['items'][i][\"contentDetails\"][\"videoId\"])\n",
    "            pageToken=response.get('nextPageToken')    \n",
    "    return Video_id\n",
    "    "
   ]
  },
  {
   "cell_type": "code",
   "execution_count": 50,
   "id": "b882e777",
   "metadata": {},
   "outputs": [],
   "source": [
    "Total_videosID=get_videoId(\"UUeVMnSShP_Iviwkknt83cww\")"
   ]
  },
  {
   "cell_type": "markdown",
   "id": "62db537c",
   "metadata": {},
   "source": [
    "## Step-5: With Video_ids we can get the details of each videos.## Step-5: With Video_ids we can get the details of each videos."
   ]
  },
  {
   "cell_type": "code",
   "execution_count": 51,
   "id": "2b257d13",
   "metadata": {},
   "outputs": [],
   "source": [
    "def get_data(VideoIds):\n",
    "    finaldata=[]\n",
    "    for i in range(0,len(VideoIds),50):\n",
    "        request = youtube.videos().list(\n",
    "            part=\"snippet,contentDetails,statistics\",\n",
    "            id=','.join(VideoIds[i:i+50])\n",
    "        )\n",
    "        response = request.execute()\n",
    "        for i in response['items']:\n",
    "            data=dict(Title=i['snippet']['title'],\n",
    "                      Published_date=i['snippet']['publishedAt'],\n",
    "                      Total_views=i['statistics'][\"viewCount\"],\n",
    "                      Total_likes=i['statistics'][\"likeCount\"],\n",
    "                      Totalcomment=i['statistics'][\"commentCount\"])\n",
    "            finaldata.append(data)\n",
    "    return finaldata"
   ]
  },
  {
   "cell_type": "code",
   "execution_count": 52,
   "id": "caac5243",
   "metadata": {},
   "outputs": [],
   "source": [
    "finalop=get_data(Total_videosID)"
   ]
  },
  {
   "cell_type": "code",
   "execution_count": 53,
   "id": "f45f7862",
   "metadata": {},
   "outputs": [
    {
     "data": {
      "text/html": [
       "<div>\n",
       "<style scoped>\n",
       "    .dataframe tbody tr th:only-of-type {\n",
       "        vertical-align: middle;\n",
       "    }\n",
       "\n",
       "    .dataframe tbody tr th {\n",
       "        vertical-align: top;\n",
       "    }\n",
       "\n",
       "    .dataframe thead th {\n",
       "        text-align: right;\n",
       "    }\n",
       "</style>\n",
       "<table border=\"1\" class=\"dataframe\">\n",
       "  <thead>\n",
       "    <tr style=\"text-align: right;\">\n",
       "      <th></th>\n",
       "      <th>Title</th>\n",
       "      <th>Published_date</th>\n",
       "      <th>Total_views</th>\n",
       "      <th>Total_likes</th>\n",
       "      <th>Totalcomment</th>\n",
       "    </tr>\n",
       "  </thead>\n",
       "  <tbody>\n",
       "    <tr>\n",
       "      <th>0</th>\n",
       "      <td>Which Code Editor to Use?</td>\n",
       "      <td>2024-02-09T16:30:05Z</td>\n",
       "      <td>14258</td>\n",
       "      <td>1650</td>\n",
       "      <td>53</td>\n",
       "    </tr>\n",
       "    <tr>\n",
       "      <th>1</th>\n",
       "      <td>Exercise 18 - Solution &amp; Shoutouts | Sigma Web...</td>\n",
       "      <td>2024-02-08T16:14:04Z</td>\n",
       "      <td>9045</td>\n",
       "      <td>433</td>\n",
       "      <td>125</td>\n",
       "    </tr>\n",
       "    <tr>\n",
       "      <th>2</th>\n",
       "      <td>Handling Events in React | Sigma Web Developme...</td>\n",
       "      <td>2024-02-07T17:05:50Z</td>\n",
       "      <td>10990</td>\n",
       "      <td>647</td>\n",
       "      <td>156</td>\n",
       "    </tr>\n",
       "    <tr>\n",
       "      <th>3</th>\n",
       "      <td>👨‍💻 Should Kids learn Coding?</td>\n",
       "      <td>2024-02-07T07:14:21Z</td>\n",
       "      <td>35870</td>\n",
       "      <td>3278</td>\n",
       "      <td>65</td>\n",
       "    </tr>\n",
       "    <tr>\n",
       "      <th>4</th>\n",
       "      <td>Exercise 18 - Display the Cards | Sigma Web De...</td>\n",
       "      <td>2024-02-06T16:09:04Z</td>\n",
       "      <td>12277</td>\n",
       "      <td>670</td>\n",
       "      <td>165</td>\n",
       "    </tr>\n",
       "    <tr>\n",
       "      <th>...</th>\n",
       "      <td>...</td>\n",
       "      <td>...</td>\n",
       "      <td>...</td>\n",
       "      <td>...</td>\n",
       "      <td>...</td>\n",
       "    </tr>\n",
       "    <tr>\n",
       "      <th>2299</th>\n",
       "      <td>Learn Python In Hindi In One Video - हिंदी में</td>\n",
       "      <td>2018-06-04T13:59:02Z</td>\n",
       "      <td>338777</td>\n",
       "      <td>10566</td>\n",
       "      <td>622</td>\n",
       "    </tr>\n",
       "    <tr>\n",
       "      <th>2300</th>\n",
       "      <td>[Solved] The term 'pip' is not recognized as t...</td>\n",
       "      <td>2018-06-01T07:02:50Z</td>\n",
       "      <td>397623</td>\n",
       "      <td>7715</td>\n",
       "      <td>844</td>\n",
       "    </tr>\n",
       "    <tr>\n",
       "      <th>2301</th>\n",
       "      <td>JavaScript Tutorial</td>\n",
       "      <td>2018-05-13T16:22:37Z</td>\n",
       "      <td>413892</td>\n",
       "      <td>10530</td>\n",
       "      <td>575</td>\n",
       "    </tr>\n",
       "    <tr>\n",
       "      <th>2302</th>\n",
       "      <td>[Hindi] Which Programming Language to Learn Fi...</td>\n",
       "      <td>2018-05-12T09:55:59Z</td>\n",
       "      <td>51417</td>\n",
       "      <td>1708</td>\n",
       "      <td>125</td>\n",
       "    </tr>\n",
       "    <tr>\n",
       "      <th>2303</th>\n",
       "      <td>[Hindi] Top 5 Programming Languages Everyone S...</td>\n",
       "      <td>2018-05-11T17:44:56Z</td>\n",
       "      <td>100009</td>\n",
       "      <td>4537</td>\n",
       "      <td>543</td>\n",
       "    </tr>\n",
       "  </tbody>\n",
       "</table>\n",
       "<p>2304 rows × 5 columns</p>\n",
       "</div>"
      ],
      "text/plain": [
       "                                                  Title        Published_date  \\\n",
       "0                             Which Code Editor to Use?  2024-02-09T16:30:05Z   \n",
       "1     Exercise 18 - Solution & Shoutouts | Sigma Web...  2024-02-08T16:14:04Z   \n",
       "2     Handling Events in React | Sigma Web Developme...  2024-02-07T17:05:50Z   \n",
       "3                         👨‍💻 Should Kids learn Coding?  2024-02-07T07:14:21Z   \n",
       "4     Exercise 18 - Display the Cards | Sigma Web De...  2024-02-06T16:09:04Z   \n",
       "...                                                 ...                   ...   \n",
       "2299     Learn Python In Hindi In One Video - हिंदी में  2018-06-04T13:59:02Z   \n",
       "2300  [Solved] The term 'pip' is not recognized as t...  2018-06-01T07:02:50Z   \n",
       "2301                                JavaScript Tutorial  2018-05-13T16:22:37Z   \n",
       "2302  [Hindi] Which Programming Language to Learn Fi...  2018-05-12T09:55:59Z   \n",
       "2303  [Hindi] Top 5 Programming Languages Everyone S...  2018-05-11T17:44:56Z   \n",
       "\n",
       "     Total_views Total_likes Totalcomment  \n",
       "0          14258        1650           53  \n",
       "1           9045         433          125  \n",
       "2          10990         647          156  \n",
       "3          35870        3278           65  \n",
       "4          12277         670          165  \n",
       "...          ...         ...          ...  \n",
       "2299      338777       10566          622  \n",
       "2300      397623        7715          844  \n",
       "2301      413892       10530          575  \n",
       "2302       51417        1708          125  \n",
       "2303      100009        4537          543  \n",
       "\n",
       "[2304 rows x 5 columns]"
      ]
     },
     "execution_count": 53,
     "metadata": {},
     "output_type": "execute_result"
    }
   ],
   "source": [
    "import pandas as pd\n",
    "Dataframe=pd.DataFrame(finalop)\n",
    "Dataframe"
   ]
  },
  {
   "cell_type": "markdown",
   "id": "c4da9c33",
   "metadata": {},
   "source": [
    "## Changing the Datatype as all extracted data will be object"
   ]
  },
  {
   "cell_type": "code",
   "execution_count": 54,
   "id": "dc94bbd6",
   "metadata": {},
   "outputs": [
    {
     "data": {
      "text/html": [
       "<div>\n",
       "<style scoped>\n",
       "    .dataframe tbody tr th:only-of-type {\n",
       "        vertical-align: middle;\n",
       "    }\n",
       "\n",
       "    .dataframe tbody tr th {\n",
       "        vertical-align: top;\n",
       "    }\n",
       "\n",
       "    .dataframe thead th {\n",
       "        text-align: right;\n",
       "    }\n",
       "</style>\n",
       "<table border=\"1\" class=\"dataframe\">\n",
       "  <thead>\n",
       "    <tr style=\"text-align: right;\">\n",
       "      <th></th>\n",
       "      <th>Title</th>\n",
       "      <th>Published_date</th>\n",
       "      <th>Total_views</th>\n",
       "      <th>Total_likes</th>\n",
       "      <th>Totalcomment</th>\n",
       "    </tr>\n",
       "  </thead>\n",
       "  <tbody>\n",
       "    <tr>\n",
       "      <th>0</th>\n",
       "      <td>Which Code Editor to Use?</td>\n",
       "      <td>2024-02-09 16:30:05+00:00</td>\n",
       "      <td>14258</td>\n",
       "      <td>1650</td>\n",
       "      <td>53</td>\n",
       "    </tr>\n",
       "    <tr>\n",
       "      <th>1</th>\n",
       "      <td>Exercise 18 - Solution &amp; Shoutouts | Sigma Web...</td>\n",
       "      <td>2024-02-08 16:14:04+00:00</td>\n",
       "      <td>9045</td>\n",
       "      <td>433</td>\n",
       "      <td>125</td>\n",
       "    </tr>\n",
       "    <tr>\n",
       "      <th>2</th>\n",
       "      <td>Handling Events in React | Sigma Web Developme...</td>\n",
       "      <td>2024-02-07 17:05:50+00:00</td>\n",
       "      <td>10990</td>\n",
       "      <td>647</td>\n",
       "      <td>156</td>\n",
       "    </tr>\n",
       "    <tr>\n",
       "      <th>3</th>\n",
       "      <td>👨‍💻 Should Kids learn Coding?</td>\n",
       "      <td>2024-02-07 07:14:21+00:00</td>\n",
       "      <td>35870</td>\n",
       "      <td>3278</td>\n",
       "      <td>65</td>\n",
       "    </tr>\n",
       "    <tr>\n",
       "      <th>4</th>\n",
       "      <td>Exercise 18 - Display the Cards | Sigma Web De...</td>\n",
       "      <td>2024-02-06 16:09:04+00:00</td>\n",
       "      <td>12277</td>\n",
       "      <td>670</td>\n",
       "      <td>165</td>\n",
       "    </tr>\n",
       "    <tr>\n",
       "      <th>...</th>\n",
       "      <td>...</td>\n",
       "      <td>...</td>\n",
       "      <td>...</td>\n",
       "      <td>...</td>\n",
       "      <td>...</td>\n",
       "    </tr>\n",
       "    <tr>\n",
       "      <th>2299</th>\n",
       "      <td>Learn Python In Hindi In One Video - हिंदी में</td>\n",
       "      <td>2018-06-04 13:59:02+00:00</td>\n",
       "      <td>338777</td>\n",
       "      <td>10566</td>\n",
       "      <td>622</td>\n",
       "    </tr>\n",
       "    <tr>\n",
       "      <th>2300</th>\n",
       "      <td>[Solved] The term 'pip' is not recognized as t...</td>\n",
       "      <td>2018-06-01 07:02:50+00:00</td>\n",
       "      <td>397623</td>\n",
       "      <td>7715</td>\n",
       "      <td>844</td>\n",
       "    </tr>\n",
       "    <tr>\n",
       "      <th>2301</th>\n",
       "      <td>JavaScript Tutorial</td>\n",
       "      <td>2018-05-13 16:22:37+00:00</td>\n",
       "      <td>413892</td>\n",
       "      <td>10530</td>\n",
       "      <td>575</td>\n",
       "    </tr>\n",
       "    <tr>\n",
       "      <th>2302</th>\n",
       "      <td>[Hindi] Which Programming Language to Learn Fi...</td>\n",
       "      <td>2018-05-12 09:55:59+00:00</td>\n",
       "      <td>51417</td>\n",
       "      <td>1708</td>\n",
       "      <td>125</td>\n",
       "    </tr>\n",
       "    <tr>\n",
       "      <th>2303</th>\n",
       "      <td>[Hindi] Top 5 Programming Languages Everyone S...</td>\n",
       "      <td>2018-05-11 17:44:56+00:00</td>\n",
       "      <td>100009</td>\n",
       "      <td>4537</td>\n",
       "      <td>543</td>\n",
       "    </tr>\n",
       "  </tbody>\n",
       "</table>\n",
       "<p>2304 rows × 5 columns</p>\n",
       "</div>"
      ],
      "text/plain": [
       "                                                  Title  \\\n",
       "0                             Which Code Editor to Use?   \n",
       "1     Exercise 18 - Solution & Shoutouts | Sigma Web...   \n",
       "2     Handling Events in React | Sigma Web Developme...   \n",
       "3                         👨‍💻 Should Kids learn Coding?   \n",
       "4     Exercise 18 - Display the Cards | Sigma Web De...   \n",
       "...                                                 ...   \n",
       "2299     Learn Python In Hindi In One Video - हिंदी में   \n",
       "2300  [Solved] The term 'pip' is not recognized as t...   \n",
       "2301                                JavaScript Tutorial   \n",
       "2302  [Hindi] Which Programming Language to Learn Fi...   \n",
       "2303  [Hindi] Top 5 Programming Languages Everyone S...   \n",
       "\n",
       "                Published_date  Total_views  Total_likes  Totalcomment  \n",
       "0    2024-02-09 16:30:05+00:00        14258         1650            53  \n",
       "1    2024-02-08 16:14:04+00:00         9045          433           125  \n",
       "2    2024-02-07 17:05:50+00:00        10990          647           156  \n",
       "3    2024-02-07 07:14:21+00:00        35870         3278            65  \n",
       "4    2024-02-06 16:09:04+00:00        12277          670           165  \n",
       "...                        ...          ...          ...           ...  \n",
       "2299 2018-06-04 13:59:02+00:00       338777        10566           622  \n",
       "2300 2018-06-01 07:02:50+00:00       397623         7715           844  \n",
       "2301 2018-05-13 16:22:37+00:00       413892        10530           575  \n",
       "2302 2018-05-12 09:55:59+00:00        51417         1708           125  \n",
       "2303 2018-05-11 17:44:56+00:00       100009         4537           543  \n",
       "\n",
       "[2304 rows x 5 columns]"
      ]
     },
     "execution_count": 54,
     "metadata": {},
     "output_type": "execute_result"
    }
   ],
   "source": [
    "Dataframe['Published_date']=pd.to_datetime(Dataframe['Published_date'])\n",
    "Dataframe['Total_views']=pd.to_numeric(Dataframe['Total_views'])\n",
    "Dataframe['Total_likes']=pd.to_numeric(Dataframe['Total_likes'])\n",
    "Dataframe['Totalcomment']=pd.to_numeric(Dataframe['Totalcomment'])\n",
    "Dataframe"
   ]
  },
  {
   "cell_type": "code",
   "execution_count": null,
   "id": "97a7d321",
   "metadata": {},
   "outputs": [],
   "source": []
  }
 ],
 "metadata": {
  "kernelspec": {
   "display_name": "Python 3 (ipykernel)",
   "language": "python",
   "name": "python3"
  },
  "language_info": {
   "codemirror_mode": {
    "name": "ipython",
    "version": 3
   },
   "file_extension": ".py",
   "mimetype": "text/x-python",
   "name": "python",
   "nbconvert_exporter": "python",
   "pygments_lexer": "ipython3",
   "version": "3.9.13"
  }
 },
 "nbformat": 4,
 "nbformat_minor": 5
}
